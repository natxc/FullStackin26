{
 "cells": [
  {
   "cell_type": "code",
   "execution_count": 16,
   "metadata": {},
   "outputs": [],
   "source": [
    "import pandas as pd"
   ]
  },
  {
   "cell_type": "code",
   "execution_count": 62,
   "metadata": {},
   "outputs": [],
   "source": [
    "dataframe = pd.read_parquet('sd254_cards_de.parquet')\n",
    "\n",
    "dataframe_transformations = pd.read_json('transformations.json')\n",
    "\n",
    "for column in dataframe.columns:\n",
    "    if column in dataframe_transformations.columns:\n",
    "\n",
    "        dtype_rule = dataframe_transformations.loc['astype', column]\n",
    "        map_rule = dataframe_transformations.loc['map', column]\n",
    "\n",
    "        if not pd.isna(dtype_rule):\n",
    "            # Convert the column to the specified data type if the rule is not NaN\n",
    "            dataframe[column] = dataframe[column].astype(dtype_rule)\n",
    "\n",
    "        if not pd.isna(map_rule):\n",
    "            # Map values in the column based on the provided mapping if the rule is not NaN\n",
    "            dataframe[column] = dataframe[column].map(map_rule)"
   ]
  },
  {
   "cell_type": "code",
   "execution_count": 63,
   "metadata": {},
   "outputs": [
    {
     "name": "stdout",
     "output_type": "stream",
     "text": [
      "Card Number\n",
      "Has Chip\n"
     ]
    }
   ],
   "source": [
    "for column in dataframe.columns:\n",
    "    if column in dataframe_transformations.columns:\n",
    "            print(column)"
   ]
  },
  {
   "attachments": {},
   "cell_type": "markdown",
   "metadata": {},
   "source": []
  },
  {
   "cell_type": "code",
   "execution_count": 52,
   "metadata": {},
   "outputs": [
    {
     "data": {
      "text/plain": [
       "0       4344676511950444\n",
       "1       4956965974959986\n",
       "2       4582313478255491\n",
       "3       4879494103069057\n",
       "4       5722874738736011\n",
       "              ...       \n",
       "6141     300609782832003\n",
       "6142    4718517475996018\n",
       "6143    5929512204765914\n",
       "6144    5589768928167462\n",
       "6145    4994011318343994\n",
       "Name: Card Number, Length: 6146, dtype: object"
      ]
     },
     "execution_count": 52,
     "metadata": {},
     "output_type": "execute_result"
    }
   ],
   "source": [
    "dataframe['Card Number'].astype(str)"
   ]
  },
  {
   "cell_type": "code",
   "execution_count": 53,
   "metadata": {},
   "outputs": [
    {
     "data": {
      "text/plain": [
       "0       4344676511950444\n",
       "1       4956965974959986\n",
       "2       4582313478255491\n",
       "3       4879494103069057\n",
       "4       5722874738736011\n",
       "              ...       \n",
       "6141     300609782832003\n",
       "6142    4718517475996018\n",
       "6143    5929512204765914\n",
       "6144    5589768928167462\n",
       "6145    4994011318343994\n",
       "Name: Card Number, Length: 6146, dtype: object"
      ]
     },
     "execution_count": 53,
     "metadata": {},
     "output_type": "execute_result"
    }
   ],
   "source": [
    "dataframe['Card Number']"
   ]
  },
  {
   "cell_type": "code",
   "execution_count": 55,
   "metadata": {},
   "outputs": [
    {
     "data": {
      "text/plain": [
       "Index(['User', 'CARD INDEX', 'Card Brand', 'Card Type', 'Card Number',\n",
       "       'Expires', 'CVV', 'Has Chip', 'Cards Issued', 'Credit Limit',\n",
       "       'Acct Open Date', 'Year PIN last Changed', 'Card on Dark Web'],\n",
       "      dtype='object')"
      ]
     },
     "execution_count": 55,
     "metadata": {},
     "output_type": "execute_result"
    }
   ],
   "source": [
    "dataframe.columns"
   ]
  },
  {
   "attachments": {},
   "cell_type": "markdown",
   "metadata": {},
   "source": []
  },
  {
   "cell_type": "code",
   "execution_count": 70,
   "metadata": {},
   "outputs": [
    {
     "name": "stdout",
     "output_type": "stream",
     "text": [
      "good\n"
     ]
    }
   ],
   "source": [
    "if ('csv' or 'CSV') not in 'poop.cv':\n",
    "    print('good')"
   ]
  }
 ],
 "metadata": {
  "kernelspec": {
   "display_name": "Python 3 (ipykernel)",
   "language": "python",
   "name": "python3"
  },
  "language_info": {
   "codemirror_mode": {
    "name": "ipython",
    "version": 3
   },
   "file_extension": ".py",
   "mimetype": "text/x-python",
   "name": "python",
   "nbconvert_exporter": "python",
   "pygments_lexer": "ipython3",
   "version": "3.11.3"
  },
  "orig_nbformat": 4
 },
 "nbformat": 4,
 "nbformat_minor": 2
}
