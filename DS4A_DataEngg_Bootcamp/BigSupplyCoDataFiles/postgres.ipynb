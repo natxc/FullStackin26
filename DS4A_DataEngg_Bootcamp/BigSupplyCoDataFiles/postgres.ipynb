{
 "cells": [
  {
   "cell_type": "code",
   "execution_count": 15,
   "metadata": {},
   "outputs": [
    {
     "name": "stdout",
     "output_type": "stream",
     "text": [
      "('Bekasi', '4', '180517', '77202', '20755', '1', '1/31/18 22:56', '1360', 'Advance shipping', 'Pacific Asia', 'Indonesia', '13.10999966', '0.039999999', 'DEBIT', 'Southeast Asia', '327.75', '91.25', '', '314.6400146', '0', '2', '3', 'Java Occidental', 'COMPLETE', 'bc77f167-ce69-45d1-a669-3039e0f0e0a6', datetime.datetime(2023, 10, 16, 18, 40, 22, 305000, tzinfo=datetime.timezone(datetime.timedelta(days=-1, seconds=64800))), datetime.datetime(2023, 10, 16, 18, 41, 35, 674972, tzinfo=datetime.timezone(datetime.timedelta(days=-1, seconds=64800))), '78189762027ae91c9f846dc8d93ff94a')\n",
      "('Bikaner', '4', '179254', '75939', '19492', '1', '1/13/18 12:27', '1360', 'Late delivery', 'Pacific Asia', 'India', '16.38999939', '0.050000001', 'TRANSFER', 'South Asia', '327.75', '-249.0899963', '', '311.3599854', '1', '2', '5', 'Rajastננn', 'PENDING', '197c1f1b-70cf-4642-80b2-74233a4cfc26', datetime.datetime(2023, 10, 16, 18, 40, 22, 306000, tzinfo=datetime.timezone(datetime.timedelta(days=-1, seconds=64800))), datetime.datetime(2023, 10, 16, 18, 41, 35, 674972, tzinfo=datetime.timezone(datetime.timedelta(days=-1, seconds=64800))), '521a2d9460f3106f4b86ca27536ee07b')\n",
      "('Bikaner', '4', '179253', '75938', '19491', '1', '1/13/18 12:06', '1360', 'Shipping on time', 'Pacific Asia', 'India', '18.03000069', '0.059999999', 'CASH', 'South Asia', '327.75', '-247.7799988', '', '309.7200012', '0', '2', '4', 'Rajastננn', 'CLOSED', 'dbaffdfc-428f-4ff3-9b54-9f3094113a63', datetime.datetime(2023, 10, 16, 18, 40, 22, 306000, tzinfo=datetime.timezone(datetime.timedelta(days=-1, seconds=64800))), datetime.datetime(2023, 10, 16, 18, 41, 35, 674972, tzinfo=datetime.timezone(datetime.timedelta(days=-1, seconds=64800))), 'd579071f9e8f1230c96784ff282a02f2')\n",
      "('Townsville', '4', '179252', '75937', '19490', '1', '1/13/18 11:45', '1360', 'Advance shipping', 'Pacific Asia', 'Australia', '22.94000053', '0.07', 'DEBIT', 'Oceania', '327.75', '22.86000061', '', '304.8099976', '0', '2', '3', 'Queensland', 'COMPLETE', 'c0393d5a-fad4-4635-8e20-9c8dad59b23c', datetime.datetime(2023, 10, 16, 18, 40, 22, 306000, tzinfo=datetime.timezone(datetime.timedelta(days=-1, seconds=64800))), datetime.datetime(2023, 10, 16, 18, 41, 35, 674972, tzinfo=datetime.timezone(datetime.timedelta(days=-1, seconds=64800))), 'e4b52c6ea4d3233869b59db17bc780f7')\n",
      "('Townsville', '4', '179251', '75936', '19489', '1', '1/13/18 11:24', '1360', 'Advance shipping', 'Pacific Asia', 'Australia', '29.5', '0.090000004', 'PAYMENT', 'Oceania', '327.75', '134.2100067', '', '298.25', '0', '2', '2', 'Queensland', 'PENDING_PAYMENT', '59fe431d-3cc9-432d-bb18-d4f8de048615', datetime.datetime(2023, 10, 16, 18, 40, 22, 306000, tzinfo=datetime.timezone(datetime.timedelta(days=-1, seconds=64800))), datetime.datetime(2023, 10, 16, 18, 41, 35, 674972, tzinfo=datetime.timezone(datetime.timedelta(days=-1, seconds=64800))), 'ba034dd6d0329a96f64c6f067c976140')\n",
      "('Toowoomba', '4', '179250', '75935', '19488', '1', '1/13/18 11:03', '1360', 'Shipping canceled', 'Pacific Asia', 'Australia', '32.77999878', '0.100000001', 'TRANSFER', 'Oceania', '327.75', '18.57999992', '', '294.980011', '0', '2', '6', 'Queensland', 'CANCELED', 'ad0572f5-4606-441b-86ff-2929d38abd5a', datetime.datetime(2023, 10, 16, 18, 40, 22, 307000, tzinfo=datetime.timezone(datetime.timedelta(days=-1, seconds=64800))), datetime.datetime(2023, 10, 16, 18, 41, 35, 674972, tzinfo=datetime.timezone(datetime.timedelta(days=-1, seconds=64800))), '129f7e6962f6c67e60502fa1646f4068')\n",
      "('Guangzhou', '1', '179249', '75934', '19487', '1', '1/13/18 10:42', '1360', 'Late delivery', 'Pacific Asia', 'China', '39.33000183', '0.119999997', 'DEBIT', 'Eastern Asia', '327.75', '95.18000031', '', '288.4200134', '1', '2', '2', 'Guangdong', 'COMPLETE', '16ddb3ec-d0d4-403b-a53c-b3553bc01696', datetime.datetime(2023, 10, 16, 18, 40, 22, 307000, tzinfo=datetime.timezone(datetime.timedelta(days=-1, seconds=64800))), datetime.datetime(2023, 10, 16, 18, 41, 35, 674972, tzinfo=datetime.timezone(datetime.timedelta(days=-1, seconds=64800))), 'fa38235fa47c874c05d90f4c7aa0f869')\n",
      "('Guangzhou', '1', '179248', '75933', '19486', '1', '1/13/18 10:21', '1360', 'Late delivery', 'Pacific Asia', 'China', '42.61000061', '0.129999995', 'TRANSFER', 'Eastern Asia', '327.75', '68.43000031', '', '285.1400146', '1', '2', '2', 'Guangdong', 'PROCESSING', '60e0658d-5628-4ba7-b036-d365befad89b', datetime.datetime(2023, 10, 16, 18, 40, 22, 307000, tzinfo=datetime.timezone(datetime.timedelta(days=-1, seconds=64800))), datetime.datetime(2023, 10, 16, 18, 41, 35, 674972, tzinfo=datetime.timezone(datetime.timedelta(days=-1, seconds=64800))), 'afa5fe7f32a031d2f07154068cd7fcb5')\n",
      "('Guangzhou', '2', '179247', '75932', '19485', '1', '1/13/18 10:00', '1360', 'Late delivery', 'Pacific Asia', 'China', '49.15999985', '0.150000006', 'CASH', 'Eastern Asia', '327.75', '133.7200012', '', '278.5899963', '1', '2', '3', 'Guangdong', 'CLOSED', '9a217244-4c67-47e7-9edb-7cdee5edce9c', datetime.datetime(2023, 10, 16, 18, 40, 22, 307000, tzinfo=datetime.timezone(datetime.timedelta(days=-1, seconds=64800))), datetime.datetime(2023, 10, 16, 18, 41, 35, 674972, tzinfo=datetime.timezone(datetime.timedelta(days=-1, seconds=64800))), 'ae26d8a653cb48f6ddc68a6e05462d83')\n",
      "('Guangzhou', '1', '179246', '75931', '19484', '1', '1/13/18 9:39', '1360', 'Late delivery', 'Pacific Asia', 'China', '52.43999863', '0.159999996', 'CASH', 'Eastern Asia', '327.75', '132.1499939', '', '275.3099976', '1', '2', '2', 'Guangdong', 'CLOSED', 'a5f45744-dc7d-4621-9e9f-e22ab7b5c18f', datetime.datetime(2023, 10, 16, 18, 40, 22, 307000, tzinfo=datetime.timezone(datetime.timedelta(days=-1, seconds=64800))), datetime.datetime(2023, 10, 16, 18, 41, 35, 674972, tzinfo=datetime.timezone(datetime.timedelta(days=-1, seconds=64800))), '7fc9c403d90b448e6b19edf6e719e9d7')\n"
     ]
    }
   ],
   "source": [
    "import psycopg2\n",
    "import json\n",
    "\n",
    "conn = None\n",
    "try:\n",
    "    conn = psycopg2.connect(\n",
    "    dbname='',\n",
    "    host='',\n",
    "    port='',\n",
    "    user='',\n",
    "    password='')\n",
    "except:\n",
    "    print(\"I am unable to connect to the database\")\n",
    "\n",
    "# Get a cursor and execute select statement\n",
    "cur = conn.cursor()\n",
    "cur.execute(\"\"\"select * from airflow.public.orders_s3_files_to_postgres limit 10;\"\"\")\n",
    "rows = cur.fetchall()\n",
    "\n",
    "# Print out the results\n",
    "for row in rows:\n",
    "    print(row)\n",
    "\n",
    "# Close the connection when finished\n",
    "conn.close()"
   ]
  },
  {
   "cell_type": "code",
   "execution_count": null,
   "metadata": {},
   "outputs": [],
   "source": []
  }
 ],
 "metadata": {
  "kernelspec": {
   "display_name": "Python 3 (ipykernel)",
   "language": "python",
   "name": "python3"
  },
  "orig_nbformat": 4
 },
 "nbformat": 4,
 "nbformat_minor": 2
}
